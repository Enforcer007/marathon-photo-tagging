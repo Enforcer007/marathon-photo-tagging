{
 "cells": [
  {
   "cell_type": "code",
   "execution_count": 1,
   "metadata": {},
   "outputs": [],
   "source": [
    "#from pyvirtualdisplay import Display\n",
    "from selenium import webdriver\n",
    "import os\n",
    "import json\n",
    "import io"
   ]
  },
  {
   "cell_type": "code",
   "execution_count": 2,
   "metadata": {},
   "outputs": [],
   "source": [
    "#define common variables\n",
    "data_path='./Data/'\n",
    "data_files=os.listdir(data_path)\n",
    "\n",
    "data_files\n",
    "\n",
    "with io.open(data_path+data_files[2],'r',encoding='utf-8-sig') as file1:\n",
    "    x=json.load(file1)\n",
    "\n",
    "keys=list(x.keys())\n",
    "\n",
    "temp=x[keys[4]]\n"
   ]
  },
  {
   "cell_type": "code",
   "execution_count": 21,
   "metadata": {},
   "outputs": [
    {
     "data": {
      "text/plain": [
       "{'url': 'https://scontent.fblr7-1.fna.fbcdn.net/v/t1.0-9/45461894_513611619114856_1141477074620383232_n.jpg?oh=2556ca55dda4247fd398815971136c1d&oe=5C6E4E02',\n",
       " 'href': 'https://www.facebook.com/HyderabadultraMarathon/photos/a.513541769121841/513611615781523/?type=3',\n",
       " 'title': '',\n",
       " 'date': '2018-11-06 14:16:00'}"
      ]
     },
     "execution_count": 21,
     "metadata": {},
     "output_type": "execute_result"
    }
   ],
   "source": [
    "temp[1164:][0]"
   ]
  },
  {
   "cell_type": "code",
   "execution_count": 5,
   "metadata": {},
   "outputs": [],
   "source": [
    "x=list(os.walk('./data'))"
   ]
  },
  {
   "cell_type": "code",
   "execution_count": 15,
   "metadata": {},
   "outputs": [],
   "source": [
    "x=[int(i.split('.')[0]) for i in x[0][2]]"
   ]
  },
  {
   "cell_type": "code",
   "execution_count": 18,
   "metadata": {},
   "outputs": [
    {
     "data": {
      "text/plain": [
       "1164"
      ]
     },
     "execution_count": 18,
     "metadata": {},
     "output_type": "execute_result"
    }
   ],
   "source": [
    "sorted(x)[-1]"
   ]
  },
  {
   "cell_type": "code",
   "execution_count": null,
   "metadata": {},
   "outputs": [],
   "source": [
    "temp"
   ]
  },
  {
   "cell_type": "code",
   "execution_count": 4,
   "metadata": {},
   "outputs": [],
   "source": [
    "file_keys={}\n",
    "browser=webdriver.PhantomJS()"
   ]
  },
  {
   "cell_type": "code",
   "execution_count": 5,
   "metadata": {},
   "outputs": [],
   "source": [
    "def save_screenshots(file_n,x):\n",
    "    browser.get(x)\n",
    "    browser.save_screenshot('data/{0}.png'.format(file_n))"
   ]
  },
  {
   "cell_type": "code",
   "execution_count": null,
   "metadata": {},
   "outputs": [],
   "source": [
    "if __name__=='__main__':\n",
    "    for i,j in enumerate(temp[:10]):\n",
    "        save_screenshots(i,j['href'])\n",
    "        file_keys[i]=j['href']\n",
    "        print('{0} saved'.format(i))\n",
    "    browser.quit()\n",
    "    with open('data_run.json', 'w') as fp:\n",
    "        json.dump(file_keys, fp)\n",
    "    print('json saved')"
   ]
  }
 ],
 "metadata": {
  "kernelspec": {
   "display_name": "Python 3",
   "language": "python",
   "name": "python3"
  },
  "language_info": {
   "codemirror_mode": {
    "name": "ipython",
    "version": 3
   },
   "file_extension": ".py",
   "mimetype": "text/x-python",
   "name": "python",
   "nbconvert_exporter": "python",
   "pygments_lexer": "ipython3",
   "version": "3.7.0"
  }
 },
 "nbformat": 4,
 "nbformat_minor": 2
}
